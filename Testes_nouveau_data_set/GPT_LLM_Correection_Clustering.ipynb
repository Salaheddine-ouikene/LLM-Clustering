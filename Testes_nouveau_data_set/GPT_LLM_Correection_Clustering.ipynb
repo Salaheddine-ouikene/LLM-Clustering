{
 "cells": [
  {
   "cell_type": "code",
   "execution_count": 80,
   "id": "aa36e569-5932-4f56-a854-ef88d523cae0",
   "metadata": {},
   "outputs": [],
   "source": [
    "import pandas as pd\n",
    "import numpy as np\n",
    "import openai\n",
    "from sklearn.feature_extraction.text import TfidfVectorizer\n",
    "from sklearn.cluster import KMeans\n",
    "from sklearn.metrics.pairwise import euclidean_distances\n",
    "import os"
   ]
  },
  {
   "cell_type": "code",
   "execution_count": 47,
   "id": "2b80defe-3dca-4274-919a-5f3f8ca9381a",
   "metadata": {},
   "outputs": [
    {
     "name": "stdout",
     "output_type": "stream",
     "text": [
      "API Key loaded successfully.\n"
     ]
    }
   ],
   "source": [
    "import os\n",
    "from dotenv import load_dotenv\n",
    "\n",
    "load_dotenv()  # Load the .env file\n",
    "\n",
    "openai.api_key = os.getenv('OPENAI_API_KEY')\n",
    "if openai.api_key is None:\n",
    "    raise ValueError(\"API key is not set.\")\n",
    "else:\n",
    "    print(\"API Key loaded successfully.\")\n"
   ]
  },
  {
   "cell_type": "code",
   "execution_count": 48,
   "id": "f72ee288-0346-4967-8fe8-a4ffddf36eeb",
   "metadata": {},
   "outputs": [],
   "source": [
    "def gpt3_query(text):\n",
    "    \"\"\" Query GPT-3.5 Turbo with the given text to determine if it should be reassigned to a different cluster. \"\"\"\n",
    "    response = openai.ChatCompletion.create(\n",
    "        model=\"gpt-3.5-turbo\",\n",
    "        messages=[\n",
    "            {\"role\": \"system\", \"content\": \"You are an assistant to help decide if a news article should stay in its current cluster or move.\"},\n",
    "            {\"role\": \"user\", \"content\": text}\n",
    "        ],\n",
    "        max_tokens=50\n",
    "    )\n",
    "    answer = response['choices'][0]['message']['content'].strip().lower()\n",
    "    return \"yes\" in answer"
   ]
  },
  {
   "cell_type": "code",
   "execution_count": 49,
   "id": "9660995b-2a24-4a14-8f8b-85ec3980331d",
   "metadata": {},
   "outputs": [],
   "source": [
    "def load_data(file_path):\n",
    "    \"\"\" Load the BBC News dataset from a CSV file. \"\"\"\n",
    "    return pd.read_csv(file_path)"
   ]
  },
  {
   "cell_type": "code",
   "execution_count": 50,
   "id": "69e05e07-68bc-4928-bd62-2f91176cab20",
   "metadata": {},
   "outputs": [],
   "source": [
    "def preprocess_text(data):\n",
    "    \"\"\" Preprocess text data for clustering. \"\"\"\n",
    "    vectorizer = TfidfVectorizer(stop_words='english')\n",
    "    return vectorizer.fit_transform(data['text'])"
   ]
  },
  {
   "cell_type": "code",
   "execution_count": null,
   "id": "24b87e84-63c4-4378-99fc-3d102c7979d5",
   "metadata": {},
   "outputs": [],
   "source": [
    "# Load the dataset file\n",
    "file_path = 'bbc_news_subset_1000artcl.csv'\n",
    "data = load_data(file_path)\n",
    "X = preprocess_text(data)\n",
    "\n",
    "# Initial clustering\n",
    "kmeans = KMeans(n_clusters=5, random_state=42)\n",
    "initial_labels = kmeans.fit_predict(X)\n",
    "cluster_centers = kmeans.cluster_centers_"
   ]
  },
  {
   "cell_type": "code",
   "execution_count": null,
   "id": "79f28b05-e81c-470b-b296-541aeb223045",
   "metadata": {},
   "outputs": [],
   "source": [
    "def refine_clusters(X, cluster_labels, cluster_centers,Nbr_Low_Conf_Pnt,nb_nearest_cluster):\n",
    "     # Nbr_Low_Conf_Pnt : le nombre de Low Confidence Points à identifier \n",
    "     # X : \n",
    "     # cluster_labels : \n",
    "     # cluster_centers : \n",
    "     # nb_nearest_cluster\n",
    "    new_cluster_labels = cluster_labels.copy()\n",
    "    distances = euclidean_distances(X.toarray(), cluster_centers)\n",
    "    confidence_scores = distances.min(axis=1) - np.partition(distances, 2, axis=1)[:, 1]\n",
    "    low_confidence_indices = np.argsort(confidence_scores)[:Nbr_Low_Conf_Pnt]  # Top Nbr_Low_Conf_Pnt uncertain points\n",
    "    cpt=1\n",
    "    total_request=Nbr_Low_Conf_Pnt\n",
    "    for idx in low_confidence_indices:\n",
    "        current_cluster_idx = cluster_labels[idx]\n",
    "        nearest_clusters = np.argsort(distances[idx])[1:(nb_nearest_cluster+1)]\n",
    "\n",
    "        query_text = f\"Should this news article stay in cluster {current_cluster_idx}? Text: {data['text'].iloc[idx]}\"\n",
    "        response = gpt3_query(query_text)\n",
    "        print(f\"{cpt}/{total_request}\", end=\"\\r\")\n",
    "        cpt=cpt+1\n",
    "        if not response:\n",
    "            for new_cluster_idx in nearest_clusters:\n",
    "                query_text = f\"Should this news article move to cluster {new_cluster_idx}? Text: {data['text'].iloc[idx]}\"\n",
    "                response = gpt3_query(query_text)\n",
    "                if response:\n",
    "                    new_cluster_labels[idx] = new_cluster_idx\n",
    "                    break\n",
    "\n",
    "    return new_cluster_labels"
   ]
  },
  {
   "cell_type": "code",
   "execution_count": 52,
   "id": "fb7d52d5-8886-4d0f-af51-d951ced3fda4",
   "metadata": {},
   "outputs": [
    {
     "name": "stdout",
     "output_type": "stream",
     "text": [
      "500/1000\r"
     ]
    }
   ],
   "source": [
    "# Refine clustering with GPT-3\n",
    "refined_labels = refine_clusters(X, initial_labels, cluster_centers,500,4)"
   ]
  },
  {
   "cell_type": "code",
   "execution_count": 55,
   "id": "f3f7540e-e765-4e2a-a0c9-1b46fc005cfd",
   "metadata": {},
   "outputs": [
    {
     "name": "stdout",
     "output_type": "stream",
     "text": [
      "Initial Clustering NMI: 0.6131461379882496\n",
      "Refined Clustering NMI: 0.21241491686367456\n"
     ]
    }
   ],
   "source": [
    "from sklearn.metrics import normalized_mutual_info_score\n",
    "\n",
    "def compute_nmi(true_labels, predicted_labels):\n",
    "    \"\"\"Compute the Normalized Mutual Information between true and predicted labels.\"\"\"\n",
    "    return normalized_mutual_info_score(true_labels, predicted_labels)\n",
    "\n",
    "# Assuming 'category' column has the true labels\n",
    "true_labels = data['category'].values\n",
    "\n",
    "# Compute NMI for both clustering results\n",
    "nmi_initial = compute_nmi(true_labels, initial_labels)\n",
    "nmi_refined = compute_nmi(true_labels, refined_labels)\n",
    "\n",
    "print(f\"Initial Clustering NMI: {nmi_initial}\")\n",
    "print(f\"Refined Clustering NMI: {nmi_refined}\")\n"
   ]
  },
  {
   "cell_type": "code",
   "execution_count": 58,
   "id": "a3e1c77d-0e44-49d1-9c3c-84c77cf9c287",
   "metadata": {},
   "outputs": [],
   "source": [
    "# Load the dataset file\n",
    "file_path = 'bbc_news_subset_1000artcl.csv'\n",
    "data = load_data(file_path)\n",
    "X = preprocess_text(data)\n",
    "\n",
    "# Initial clustering\n",
    "kmeans = KMeans(n_clusters=5, random_state=42)\n",
    "initial_labels = kmeans.fit_predict(X)\n",
    "cluster_centers = kmeans.cluster_centers_"
   ]
  },
  {
   "cell_type": "code",
   "execution_count": null,
   "id": "b6367e0b-0f33-4c5b-9022-7a4b98b589eb",
   "metadata": {},
   "outputs": [],
   "source": [
    "# Refine clustering with GPT-3.5 turbo\n",
    "refined_labels = refine_clusters(X, initial_labels, cluster_centers,50)"
   ]
  },
  {
   "cell_type": "code",
   "execution_count": 61,
   "id": "d85fe00d-64c6-4b00-8721-4b88e0d5b1ea",
   "metadata": {},
   "outputs": [
    {
     "name": "stdout",
     "output_type": "stream",
     "text": [
      "Initial Clustering NMI: 0.6131461379882496\n",
      "Refined Clustering NMI: 0.5687042637889106\n"
     ]
    }
   ],
   "source": [
    "# Compute NMI for both clustering results\n",
    "nmi_initial = compute_nmi(true_labels, initial_labels)\n",
    "nmi_refined = compute_nmi(true_labels, refined_labels)\n",
    "\n",
    "print(f\"Initial Clustering NMI: {nmi_initial}\")\n",
    "print(f\"Refined Clustering NMI: {nmi_refined}\")"
   ]
  },
  {
   "cell_type": "code",
   "execution_count": 68,
   "id": "f77496fa-da14-484c-aacf-388376108b3a",
   "metadata": {},
   "outputs": [
    {
     "name": "stdout",
     "output_type": "stream",
     "text": [
      "100/1000\r"
     ]
    }
   ],
   "source": [
    "# Refine clustering with GPT-3\n",
    "refined_labels = refine_clusters(X, initial_labels, cluster_centers,100,4)"
   ]
  },
  {
   "cell_type": "code",
   "execution_count": 69,
   "id": "13c46d2b-b273-4653-8b16-c5a4dbe22599",
   "metadata": {},
   "outputs": [
    {
     "name": "stdout",
     "output_type": "stream",
     "text": [
      "Initial Clustering NMI: 0.6131461379882496\n",
      "Refined Clustering NMI: 0.5208955207676117\n"
     ]
    }
   ],
   "source": [
    "# Compute NMI for both clustering results\n",
    "nmi_initial = compute_nmi(true_labels, initial_labels)\n",
    "nmi_refined = compute_nmi(true_labels, refined_labels)\n",
    "\n",
    "print(f\"Initial Clustering NMI: {nmi_initial}\")\n",
    "print(f\"Refined Clustering NMI: {nmi_refined}\")"
   ]
  },
  {
   "cell_type": "code",
   "execution_count": 72,
   "id": "37a7d994-9813-499f-b7ae-767809bb98c1",
   "metadata": {},
   "outputs": [
    {
     "name": "stdout",
     "output_type": "stream",
     "text": [
      "25/25\r"
     ]
    }
   ],
   "source": [
    "# Refine clustering with GPT-3\n",
    "refined_labels = refine_clusters(X, initial_labels, cluster_centers,25,4)"
   ]
  },
  {
   "cell_type": "code",
   "execution_count": 73,
   "id": "f61e145b-59c6-4b2b-8846-44579da44a42",
   "metadata": {},
   "outputs": [
    {
     "name": "stdout",
     "output_type": "stream",
     "text": [
      "Initial Clustering NMI: 0.6131461379882496\n",
      "Refined Clustering NMI: 0.5978809403512185\n"
     ]
    }
   ],
   "source": [
    "# Compute NMI for both clustering results\n",
    "nmi_initial = compute_nmi(true_labels, initial_labels)\n",
    "nmi_refined = compute_nmi(true_labels, refined_labels)\n",
    "\n",
    "print(f\"Initial Clustering NMI: {nmi_initial}\")\n",
    "print(f\"Refined Clustering NMI: {nmi_refined}\")"
   ]
  },
  {
   "cell_type": "code",
   "execution_count": 74,
   "id": "117b247e-65b9-498f-9f3b-8307e9ddbaa1",
   "metadata": {},
   "outputs": [
    {
     "name": "stdout",
     "output_type": "stream",
     "text": [
      "20/20\r"
     ]
    }
   ],
   "source": [
    "# Refine clustering with GPT-3\n",
    "refined_labels = refine_clusters(X, initial_labels, cluster_centers,20,4)"
   ]
  },
  {
   "cell_type": "code",
   "execution_count": 75,
   "id": "12e18ef3-0420-4ef0-b208-13080f97c0bc",
   "metadata": {},
   "outputs": [
    {
     "name": "stdout",
     "output_type": "stream",
     "text": [
      "Initial Clustering NMI: 0.6131461379882496\n",
      "Refined Clustering NMI: 0.5967547054379694\n"
     ]
    }
   ],
   "source": [
    "# Compute NMI for both clustering results\n",
    "nmi_initial = compute_nmi(true_labels, initial_labels)\n",
    "nmi_refined = compute_nmi(true_labels, refined_labels)\n",
    "\n",
    "print(f\"Initial Clustering NMI: {nmi_initial}\")\n",
    "print(f\"Refined Clustering NMI: {nmi_refined}\")"
   ]
  },
  {
   "cell_type": "code",
   "execution_count": 76,
   "id": "4dcbc01f-9354-4efc-9dd4-1ef7474a1077",
   "metadata": {},
   "outputs": [
    {
     "name": "stdout",
     "output_type": "stream",
     "text": [
      "10/10\r"
     ]
    }
   ],
   "source": [
    "# Refine clustering with GPT-3\n",
    "refined_labels = refine_clusters(X, initial_labels, cluster_centers,10,4)"
   ]
  },
  {
   "cell_type": "code",
   "execution_count": 77,
   "id": "db265e36-377c-4fef-bb22-6bc21d4fbaa5",
   "metadata": {},
   "outputs": [
    {
     "name": "stdout",
     "output_type": "stream",
     "text": [
      "Initial Clustering NMI: 0.6131461379882496\n",
      "Refined Clustering NMI: 0.6043318982858454\n"
     ]
    }
   ],
   "source": [
    "# Compute NMI for both clustering results\n",
    "nmi_initial = compute_nmi(true_labels, initial_labels)\n",
    "nmi_refined = compute_nmi(true_labels, refined_labels)\n",
    "\n",
    "print(f\"Initial Clustering NMI: {nmi_initial}\")\n",
    "print(f\"Refined Clustering NMI: {nmi_refined}\")"
   ]
  },
  {
   "cell_type": "code",
   "execution_count": 78,
   "id": "5c1e3b6f-5423-43ae-ad73-405673b0e4d9",
   "metadata": {},
   "outputs": [
    {
     "name": "stdout",
     "output_type": "stream",
     "text": [
      "5/5\r"
     ]
    }
   ],
   "source": [
    "# Refine clustering with GPT-3\n",
    "refined_labels = refine_clusters(X, initial_labels, cluster_centers,5,4)"
   ]
  },
  {
   "cell_type": "code",
   "execution_count": 79,
   "id": "2975db1e-ba01-4aea-8b69-6ecc8dbe6f78",
   "metadata": {},
   "outputs": [
    {
     "name": "stdout",
     "output_type": "stream",
     "text": [
      "Initial Clustering NMI: 0.6131461379882496\n",
      "Refined Clustering NMI: 0.6116910284489357\n"
     ]
    }
   ],
   "source": [
    "# Compute NMI for both clustering results\n",
    "nmi_initial = compute_nmi(true_labels, initial_labels)\n",
    "nmi_refined = compute_nmi(true_labels, refined_labels)\n",
    "\n",
    "print(f\"Initial Clustering NMI: {nmi_initial}\")\n",
    "print(f\"Refined Clustering NMI: {nmi_refined}\")"
   ]
  }
 ],
 "metadata": {
  "kernelspec": {
   "display_name": "Python 3 (ipykernel)",
   "language": "python",
   "name": "python3"
  },
  "language_info": {
   "codemirror_mode": {
    "name": "ipython",
    "version": 3
   },
   "file_extension": ".py",
   "mimetype": "text/x-python",
   "name": "python",
   "nbconvert_exporter": "python",
   "pygments_lexer": "ipython3",
   "version": "3.12.2"
  }
 },
 "nbformat": 4,
 "nbformat_minor": 5
}
