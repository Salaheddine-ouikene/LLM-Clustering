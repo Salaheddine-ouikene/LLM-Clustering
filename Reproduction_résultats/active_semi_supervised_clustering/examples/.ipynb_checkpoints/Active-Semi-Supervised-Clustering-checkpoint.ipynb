{
 "cells": [
  {
   "cell_type": "markdown",
   "metadata": {},
   "source": [
    "# Active Semi-Supervised Clustering"
   ]
  },
  {
   "cell_type": "code",
   "execution_count": 1,
   "metadata": {},
   "outputs": [],
   "source": [
    "from sklearn import datasets, metrics\n",
    "from few_shot_clustering.active_semi_supervised_clustering.active_semi_clustering.semi_supervised.pairwise_constraints import PCKMeans\n",
    "from few_shot_clustering.active_semi_supervised_clustering.active_semi_clustering.active.pairwise_constraints import ExampleOracle, ExploreConsolidate, MinMax"
   ]
  },
  {
   "cell_type": "code",
   "execution_count": 2,
   "metadata": {},
   "outputs": [],
   "source": [
    "X, y = datasets.load_iris(return_X_y=True)"
   ]
  },
  {
   "cell_type": "markdown",
   "metadata": {},
   "source": [
    "First, obtain some pairwise constraints from the oracle."
   ]
  },
  {
   "cell_type": "code",
   "execution_count": 3,
   "metadata": {},
   "outputs": [
    {
     "name": "stdout",
     "output_type": "stream",
     "text": [
      "Count: 1\n",
      "Count: 2\n",
      "Count: 3\n",
      "Consolidate Count: 4\n",
      "Consolidate Count: 5\n",
      "Consolidate Count: 6\n",
      "Consolidate Count: 7\n",
      "Consolidate Count: 8\n",
      "Consolidate Count: 9\n",
      "Consolidate Count: 10\n",
      "Consolidate Count: 11\n"
     ]
    }
   ],
   "source": [
    "# TODO implement your own oracle that will, for example, query a domain expert via GUI or CLI\n",
    "oracle = ExampleOracle(y, max_queries_cnt=10)\n",
    "\n",
    "active_learner = MinMax(n_clusters=3)\n",
    "active_learner.fit(X, oracle=oracle)\n",
    "pairwise_constraints = active_learner.pairwise_constraints_"
   ]
  },
  {
   "cell_type": "markdown",
   "metadata": {},
   "source": [
    "Then, use the constraints to do the clustering."
   ]
  },
  {
   "cell_type": "code",
   "execution_count": 4,
   "metadata": {},
   "outputs": [
    {
     "name": "stdout",
     "output_type": "stream",
     "text": [
      "ML constraints:\n",
      "[(73, 98), (98, 73), (22, 15), (22, 41), (15, 22), (15, 41), (41, 22), (41, 15), (118, 100), (118, 106), (118, 131), (100, 118), (100, 106), (100, 131), (106, 118), (106, 100), (106, 131), (131, 118), (131, 100), (131, 106)]\n",
      "\n",
      "CL constraints:\n",
      "[(73, 22), (73, 15), (73, 41), (98, 22), (98, 15), (98, 41), (73, 118), (73, 100), (73, 106), (73, 131), (98, 118), (98, 100), (98, 106), (98, 131), (22, 73), (22, 98), (15, 73), (15, 98), (41, 73), (41, 98), (22, 118), (22, 100), (22, 106), (22, 131), (15, 118), (15, 100), (15, 106), (15, 131), (41, 118), (41, 100), (41, 106), (41, 131), (118, 73), (118, 98), (100, 73), (100, 98), (106, 73), (106, 98), (131, 73), (131, 98), (118, 22), (118, 15), (118, 41), (100, 22), (100, 15), (100, 41), (106, 22), (106, 15), (106, 41), (131, 22), (131, 15), (131, 41)]\n",
      "\n",
      "Initializing neighborhoods took 0.001 seconds\n",
      "\n",
      "\n",
      "\n",
      "\n",
      "iteration: 0\n",
      "elapsed time: 0.006\n",
      "\n",
      "\n",
      "\n",
      "\n",
      "iteration: 1\n",
      "elapsed time: 0.005\n",
      "\n",
      "\n",
      "\n",
      "\n",
      "iteration: 2\n",
      "elapsed time: 0.003\n",
      "\n",
      "\n",
      "\n",
      "\n",
      "iteration: 3\n",
      "elapsed time: 0.003\n",
      "\n",
      "\n",
      "\n",
      "\n",
      "iteration: 4\n",
      "elapsed time: 0.004\n",
      "\n",
      "\n",
      "\n",
      "\n",
      "iteration: 5\n",
      "elapsed time: 0.003\n",
      "\n",
      "\n",
      "\n",
      "\n",
      "iteration: 6\n",
      "elapsed time: 0.003\n"
     ]
    },
    {
     "data": {
      "text/plain": [
       "<few_shot_clustering.active_semi_supervised_clustering.active_semi_clustering.semi_supervised.pairwise_constraints.pckmeans.PCKMeans at 0x7f55cfc1b3d0>"
      ]
     },
     "execution_count": 4,
     "metadata": {},
     "output_type": "execute_result"
    }
   ],
   "source": [
    "clusterer = PCKMeans(n_clusters=3)\n",
    "clusterer.fit(X, ml=pairwise_constraints[0], cl=pairwise_constraints[1])"
   ]
  },
  {
   "cell_type": "markdown",
   "metadata": {},
   "source": [
    "Evaluate the clustering using Adjusted Rand Score."
   ]
  },
  {
   "cell_type": "code",
   "execution_count": 5,
   "metadata": {},
   "outputs": [
    {
     "data": {
      "text/plain": [
       "0.7302382722834697"
      ]
     },
     "execution_count": 5,
     "metadata": {},
     "output_type": "execute_result"
    }
   ],
   "source": [
    "metrics.adjusted_rand_score(y, clusterer.labels_)"
   ]
  },
  {
   "cell_type": "code",
   "execution_count": null,
   "metadata": {},
   "outputs": [],
   "source": []
  }
 ],
 "metadata": {
  "kernelspec": {
   "display_name": "Python 3 (ipykernel)",
   "language": "python",
   "name": "python3"
  },
  "language_info": {
   "codemirror_mode": {
    "name": "ipython",
    "version": 3
   },
   "file_extension": ".py",
   "mimetype": "text/x-python",
   "name": "python",
   "nbconvert_exporter": "python",
   "pygments_lexer": "ipython3",
   "version": "3.11.4"
  }
 },
 "nbformat": 4,
 "nbformat_minor": 2
}
